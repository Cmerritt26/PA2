{
 "cells": [
  {
   "cell_type": "code",
   "execution_count": 1,
   "id": "417c07f2",
   "metadata": {},
   "outputs": [
    {
     "name": "stdout",
     "output_type": "stream",
     "text": [
      "My name is Corey, I am 20 years old, I am 185 cms tall, and my favorite color is red\n"
     ]
    }
   ],
   "source": [
    "name='Corey'\n",
    "age=20\n",
    "height=185\n",
    "color='red'\n",
    "print(f\"My name is {name}, I am {age} years old, I am {height} cms tall, and my favorite color is {color}\")"
   ]
  },
  {
   "cell_type": "code",
   "execution_count": 2,
   "id": "f5a01794",
   "metadata": {},
   "outputs": [
    {
     "name": "stdout",
     "output_type": "stream",
     "text": [
      "67.0 °C and 153.0 °F\n"
     ]
    }
   ],
   "source": [
    "celsius_temp= 67.0\n",
    "farenheit_temp=(1.8*celsius_temp)+32\n",
    "print(celsius_temp,\"°C\",\"and\",round(farenheit_temp,0),\"°F\")"
   ]
  },
  {
   "cell_type": "code",
   "execution_count": 10,
   "id": "9e8ff161",
   "metadata": {},
   "outputs": [
    {
     "name": "stdout",
     "output_type": "stream",
     "text": [
      "The addition: 185\n",
      "The subtraction: 115\n",
      "The multiplication: 5250\n",
      "The division: 4.285714285714286\n"
     ]
    }
   ],
   "source": [
    "num1=150\n",
    "num2=35\n",
    "print(f\"The addition: {num1+num2}\")\n",
    "print(f\"The subtraction: {num1-num2}\")\n",
    "print(f\"The multiplication: {num1*num2}\")\n",
    "print(f\"The division: {num1/num2}\")"
   ]
  },
  {
   "cell_type": "code",
   "execution_count": 4,
   "id": "e003ec22",
   "metadata": {},
   "outputs": [
    {
     "name": "stdout",
     "output_type": "stream",
     "text": [
      "TIME IS MONEY\n",
      "time is money\n",
      "Time is money\n",
      "Time is money\n",
      "['Time', 'is', 'money']\n"
     ]
    }
   ],
   "source": [
    "quote=\"Time is money\"\n",
    "len(quote)\n",
    "print(quote.upper())\n",
    "print(quote.lower())\n",
    "print(quote.lstrip())\n",
    "print(quote.rstrip())\n",
    "print(quote.split(sep= \" \"))\n"
   ]
  },
  {
   "cell_type": "code",
   "execution_count": 5,
   "id": "ea72a635",
   "metadata": {},
   "outputs": [
    {
     "name": "stdout",
     "output_type": "stream",
     "text": [
      "Enter an integer number: 64\n",
      "Enter an integer number: 32\n"
     ]
    }
   ],
   "source": [
    "number1=int(input(\"Enter an integer number: \"))\n",
    "number2=int(input(\"Enter an integer number: \"))"
   ]
  },
  {
   "cell_type": "code",
   "execution_count": 9,
   "id": "caecc351",
   "metadata": {},
   "outputs": [
    {
     "name": "stdout",
     "output_type": "stream",
     "text": [
      "The Sum is: 96\n",
      "The Difference is: 32\n",
      "The product is: 2048\n",
      "The quotient is: 2.0\n"
     ]
    }
   ],
   "source": [
    "print(f\"The Sum is: {number1+number2}\")\n",
    "print(f\"The Difference is: {number1-number2}\")\n",
    "print(f\"The product is: {number1*number2}\")\n",
    "print(f\"The quotient is: {number1/number2}\")\n",
    "\n"
   ]
  },
  {
   "cell_type": "code",
   "execution_count": null,
   "id": "cf9a6cde",
   "metadata": {},
   "outputs": [],
   "source": []
  }
 ],
 "metadata": {
  "kernelspec": {
   "display_name": "Python 3 (ipykernel)",
   "language": "python",
   "name": "python3"
  },
  "language_info": {
   "codemirror_mode": {
    "name": "ipython",
    "version": 3
   },
   "file_extension": ".py",
   "mimetype": "text/x-python",
   "name": "python",
   "nbconvert_exporter": "python",
   "pygments_lexer": "ipython3",
   "version": "3.11.4"
  }
 },
 "nbformat": 4,
 "nbformat_minor": 5
}
